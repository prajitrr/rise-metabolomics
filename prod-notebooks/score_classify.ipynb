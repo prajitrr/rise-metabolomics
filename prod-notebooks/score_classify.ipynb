{
 "cells": [
  {
   "cell_type": "code",
   "execution_count": 1,
   "id": "d9ef672d",
   "metadata": {},
   "outputs": [],
   "source": [
    "import sys\n",
    "import os\n",
    "sys.path.append(os.path.abspath(os.path.join(\"..\", \"src\")))\n",
    "\n",
    "\n",
    "import pandas as pd \n",
    "import numpy as np\n",
    "import matplotlib.pyplot as plt\n",
    "import seaborn as sns\n",
    "import scipy\n",
    "import sklearn\n",
    "from tqdm import tqdm\n",
    "\n",
    "from sklearn import cross_decomposition\n",
    "from vip import *\n",
    "from np_classifier import *\n",
    "\n",
    "tqdm.pandas()"
   ]
  },
  {
   "cell_type": "markdown",
   "id": "d5a6abfd",
   "metadata": {},
   "source": [
    "Define filepaths"
   ]
  },
  {
   "cell_type": "code",
   "execution_count": 12,
   "id": "2baa44b6",
   "metadata": {},
   "outputs": [],
   "source": [
    "rise_metadata_path = \"../data-raw/mzmine_data_from_jasmine/Plusrise_Metadata_abstract.csv\"\n",
    "rise_quant_table_path = \"../data-raw/mzmine_rerun/rise_plus_filtered_quant_table_rerun.csv\"\n",
    "annotations_path = \"../data-raw/mzmine_rerun/MSV000096359_run1_output_spectral_annotations.csv\"\n",
    "\n",
    "rise_patient_matches_path = \"../data-out-unclean/matched_patients_without_replacement.csv\"\n"
   ]
  },
  {
   "cell_type": "markdown",
   "id": "5d993326",
   "metadata": {},
   "source": [
    "Compute VIP Scores for Molecules"
   ]
  },
  {
   "cell_type": "code",
   "execution_count": 43,
   "id": "e6a42fce",
   "metadata": {},
   "outputs": [],
   "source": [
    "# Load and preprocess metadata\n",
    "metadata = pd.read_csv(rise_metadata_path, sep=\",\")[[\"ATTRIBUTE_participantid\", \"ATTRIBUTE_Metabolomics_ID\"]]\n",
    "patient_to_sample = dict(zip(metadata[\"ATTRIBUTE_participantid\"], metadata[\"ATTRIBUTE_Metabolomics_ID\"]))\n",
    "sample_to_patient = {v: k for k, v in patient_to_sample.items()}\n",
    "\n",
    "# Load metabolomics data\n",
    "metabolomics_data = pd.read_csv(rise_quant_table_path, sep=\",\", index_col=0)\n",
    "feature_metadata = metabolomics_data.iloc[:, :13]\n",
    "sample_data = metabolomics_data.iloc[:, 13:].drop(columns=[\"Unnamed: 774\"])\n",
    "annotation_data = pd.read_csv(annotations_path)\n",
    "\n",
    "\n",
    "# Extract group info and rename columns to sample IDs\n",
    "groups = np.array([col.split(\"_\")[0] for col in sample_data.columns])\n",
    "sample_data.columns = [col.split(\".\")[0].split(\"_\")[2] for col in sample_data.columns]\n",
    "\n",
    "# Load patient matching data and filter for high-quality matches\n",
    "patient_matches = pd.read_csv(rise_patient_matches_path, sep=\",\", index_col=0)\n",
    "cancer_patients = patient_matches[\n",
    "    (patient_matches[\"cancer\"] == True) & \n",
    "    (patient_matches[\"absolute_propensity_difference\"] < 0.01)\n",
    "]\n",
    "control_patients = patient_matches.loc[cancer_patients[\"nearest_patient\"]].index.tolist()\n",
    "all_study_patients = cancer_patients.index.tolist() + control_patients\n",
    "\n",
    "# Filter metabolomics data for study patients\n",
    "study_sample_ids = [str(patient_to_sample[patient]) for patient in all_study_patients]\n",
    "study_data = sample_data.loc[:, sample_data.columns.isin(study_sample_ids)]\n",
    "study_data.columns = [sample_to_patient[int(col)] for col in study_data.columns]\n",
    "\n",
    "# Remove features with zero total abundance\n",
    "study_data = study_data[study_data.sum(axis=1) > 0]\n",
    "\n",
    "# Prepare data for PLS regression (transpose: samples as rows, features as columns)\n",
    "data_t = study_data.T\n",
    "data_t[\"is_cancer\"] = data_t.index.isin(cancer_patients.index)\n",
    "\n",
    "# Create binary target matrix for PLS\n",
    "y_cancer = data_t[\"is_cancer\"].astype(int).values.reshape(-1, 1)\n",
    "y_control = (1 - y_cancer).reshape(-1, 1)\n",
    "y_pls = np.hstack([y_cancer, y_control])\n",
    "\n",
    "# Fit PLS regression\n",
    "pls_model = cross_decomposition.PLSRegression(n_components=2)\n",
    "pls_output = pls_model.fit_transform(data_t.iloc[:, :-1].values, y_pls)\n",
    "\n",
    "# Apply CLR (Centered Log-Ratio) transformation\n",
    "data_normalized = data_t.copy()\n",
    "feature_data = data_normalized.iloc[:, :-1]\n",
    "\n",
    "# Step 1: Convert to relative abundances\n",
    "feature_data = feature_data.div(feature_data.sum(axis=1), axis=0)\n",
    "\n",
    "# Step 2: Divide by geometric mean (ignoring zeros)\n",
    "geom_means = np.exp(np.mean(np.log(feature_data.replace(0, np.nan)), axis=1))\n",
    "feature_data = feature_data.div(geom_means, axis=0)\n",
    "\n",
    "# Step 3: Handle zeros and apply log transformation\n",
    "min_vals = feature_data.replace(0, np.nan).min(axis=1)\n",
    "feature_data = feature_data.apply(lambda row: row.replace(0, min_vals[row.name]), axis=1)\n",
    "feature_data = np.log(feature_data)\n",
    "\n",
    "# Update normalized data\n",
    "data_normalized.iloc[:, :-1] = feature_data\n",
    "\n",
    "# Calculate VIP scores\n",
    "vip_scores = vip(data_normalized.iloc[:, :-1].values, y_pls, pls_model)\n",
    "\n",
    "# Merge VIP Scores with feature metadata\n",
    "\n",
    "row_IDs = dict(zip(feature_metadata[\"row ID\"].index.to_list(), feature_metadata[\"row ID\"].values.tolist()))\n",
    "\n",
    "annotation_data = annotation_data.loc[annotation_data.groupby(\"id\")[\"score\"].idxmax()]\n",
    "feature_dict = dict(zip(annotation_data[\"id\"].values.tolist(), annotation_data[\"compound_name\"].values.tolist()))\n",
    "scores_dict = dict(zip(annotation_data[\"id\"].values.tolist(), annotation_data[\"score\"].values.tolist()))\n",
    "smiles_dict = dict(zip(annotation_data[\"id\"].values.tolist(), annotation_data[\"smiles\"].values.tolist()))\n",
    "adduct_dict = dict(zip(annotation_data[\"id\"].values.tolist(), annotation_data[\"adduct\"].values.tolist()))\n",
    "rt_dict = dict(zip(metabolomics_data[\"row ID\"].values.tolist(), metabolomics_data[\"row retention time\"].values.tolist()))\n",
    "\n",
    "vip_dataframe = pd.DataFrame(index=data_normalized.columns[:-1], data=vip_scores, columns=[\"VIP Score\"])\n",
    "vip_dataframe[\"row ID\"] = vip_dataframe.index.map(row_IDs)\n",
    "vip_dataframe[\"retention time\"] = vip_dataframe[\"row ID\"].map(lambda x: rt_dict.get(x, None))\n",
    "vip_dataframe[\"adduct\"] = vip_dataframe[\"row ID\"].map(lambda x: adduct_dict.get(x, None))\n",
    "vip_dataframe[\"compound name\"] = vip_dataframe[\"row ID\"].map(feature_dict)\n",
    "vip_dataframe[\"compound score\"] = vip_dataframe[\"row ID\"].map(scores_dict)\n",
    "vip_dataframe[\"smiles\"] = vip_dataframe[\"row ID\"].map(lambda x: smiles_dict.get(x, None))\n",
    "\n"
   ]
  },
  {
   "cell_type": "markdown",
   "id": "d9316388",
   "metadata": {},
   "source": [
    "Classify compounds with NP Classifier"
   ]
  },
  {
   "cell_type": "code",
   "execution_count": 45,
   "id": "5559cb09",
   "metadata": {},
   "outputs": [],
   "source": [
    "# Get all entries that appear multiple times\n",
    "vip_dataframe[\"count\"] = vip_dataframe.groupby(\"smiles\")[\"smiles\"].transform(\"count\")\n",
    "vip_dataframe = vip_dataframe[vip_dataframe[\"count\"] > 1]"
   ]
  },
  {
   "cell_type": "code",
   "execution_count": 47,
   "id": "2dc2b6c0",
   "metadata": {},
   "outputs": [
    {
     "name": "stderr",
     "output_type": "stream",
     "text": [
      "/var/folders/7f/td1j1ghj1f77gp6tfcmnv2lw0000gn/T/ipykernel_60038/2578306921.py:1: SettingWithCopyWarning: \n",
      "A value is trying to be set on a copy of a slice from a DataFrame.\n",
      "Try using .loc[row_indexer,col_indexer] = value instead\n",
      "\n",
      "See the caveats in the documentation: https://pandas.pydata.org/pandas-docs/stable/user_guide/indexing.html#returning-a-view-versus-a-copy\n",
      "  vip_dataframe[\"VIP Score\"] = vip_dataframe[\"VIP Score\"].astype(float).round(3)\n"
     ]
    }
   ],
   "source": [
    "vip_dataframe[\"VIP Score\"] = vip_dataframe[\"VIP Score\"].astype(float).round(3)"
   ]
  },
  {
   "cell_type": "code",
   "execution_count": null,
   "id": "7fb91aad",
   "metadata": {},
   "outputs": [
    {
     "data": {
      "application/vnd.microsoft.datawrangler.viewer.v0+json": {
       "columns": [
        {
         "name": "index",
         "rawType": "object",
         "type": "unknown"
        },
        {
         "name": "VIP Score",
         "rawType": "float64",
         "type": "float"
        },
        {
         "name": "row ID",
         "rawType": "int64",
         "type": "integer"
        },
        {
         "name": "retention time",
         "rawType": "float64",
         "type": "float"
        },
        {
         "name": "adduct",
         "rawType": "object",
         "type": "string"
        },
        {
         "name": "compound name",
         "rawType": "object",
         "type": "string"
        },
        {
         "name": "compound score",
         "rawType": "float64",
         "type": "float"
        },
        {
         "name": "smiles",
         "rawType": "object",
         "type": "string"
        },
        {
         "name": "count",
         "rawType": "float64",
         "type": "float"
        }
       ],
       "ref": "1ae020f0-b644-4ebd-ab40-c756ac3a44a6",
       "rows": [
        [
         "3",
         "1.64",
         "5533",
         "1.3023632",
         "[M-H2O+H]+",
         "5_AMINOPENTANOATE",
         "0.909",
         "NCCCCC(O)=O",
         "5.0"
        ],
        [
         "12",
         "1.114",
         "5373",
         "1.3037927",
         "[M-H2O+H]+",
         "5_AMINOPENTANOATE",
         "0.889",
         "NCCCCC(O)=O",
         "5.0"
        ]
       ],
       "shape": {
        "columns": 8,
        "rows": 2
       }
      },
      "text/html": [
       "<div>\n",
       "<style scoped>\n",
       "    .dataframe tbody tr th:only-of-type {\n",
       "        vertical-align: middle;\n",
       "    }\n",
       "\n",
       "    .dataframe tbody tr th {\n",
       "        vertical-align: top;\n",
       "    }\n",
       "\n",
       "    .dataframe thead th {\n",
       "        text-align: right;\n",
       "    }\n",
       "</style>\n",
       "<table border=\"1\" class=\"dataframe\">\n",
       "  <thead>\n",
       "    <tr style=\"text-align: right;\">\n",
       "      <th></th>\n",
       "      <th>VIP Score</th>\n",
       "      <th>row ID</th>\n",
       "      <th>retention time</th>\n",
       "      <th>adduct</th>\n",
       "      <th>compound name</th>\n",
       "      <th>compound score</th>\n",
       "      <th>smiles</th>\n",
       "      <th>count</th>\n",
       "    </tr>\n",
       "  </thead>\n",
       "  <tbody>\n",
       "    <tr>\n",
       "      <th>3</th>\n",
       "      <td>1.640</td>\n",
       "      <td>5533</td>\n",
       "      <td>1.302363</td>\n",
       "      <td>[M-H2O+H]+</td>\n",
       "      <td>5_AMINOPENTANOATE</td>\n",
       "      <td>0.909</td>\n",
       "      <td>NCCCCC(O)=O</td>\n",
       "      <td>5.0</td>\n",
       "    </tr>\n",
       "    <tr>\n",
       "      <th>12</th>\n",
       "      <td>1.114</td>\n",
       "      <td>5373</td>\n",
       "      <td>1.303793</td>\n",
       "      <td>[M-H2O+H]+</td>\n",
       "      <td>5_AMINOPENTANOATE</td>\n",
       "      <td>0.889</td>\n",
       "      <td>NCCCCC(O)=O</td>\n",
       "      <td>5.0</td>\n",
       "    </tr>\n",
       "  </tbody>\n",
       "</table>\n",
       "</div>"
      ],
      "text/plain": [
       "    VIP Score  row ID  retention time      adduct      compound name  \\\n",
       "3       1.640    5533        1.302363  [M-H2O+H]+  5_AMINOPENTANOATE   \n",
       "12      1.114    5373        1.303793  [M-H2O+H]+  5_AMINOPENTANOATE   \n",
       "\n",
       "    compound score       smiles  count  \n",
       "3            0.909  NCCCCC(O)=O    5.0  \n",
       "12           0.889  NCCCCC(O)=O    5.0  "
      ]
     },
     "execution_count": 51,
     "metadata": {},
     "output_type": "execute_result"
    }
   ],
   "source": [
    "vip_dataframe"
   ]
  },
  {
   "cell_type": "code",
   "execution_count": null,
   "id": "666f9765",
   "metadata": {},
   "outputs": [],
   "source": [
    "np_classifier_classifications = vip_dataframe[\"smiles\"].progress_apply(lambda x: get_npclassifier(x) if x is not None else None)\n",
    "``"
   ]
  },
  {
   "cell_type": "code",
   "execution_count": 28,
   "id": "7a4fa57d",
   "metadata": {},
   "outputs": [],
   "source": [
    "vip_dataframe[\"class\"] = np_classifier_classifications.apply(lambda x : x[\"class\"] if x is not None and \"class\" in x else None)\n",
    "vip_dataframe[\"superclass\"] = np_classifier_classifications.apply(lambda x : x[\"superclass\"] if x is not None and \"superclass\" in x else None)\n",
    "vip_dataframe[\"pathway\"] = np_classifier_classifications.apply(lambda x : x[\"pathway\"] if x is not None and \"pathway\" in x else None)\n",
    "vip_dataframe[\"is_glycoside\"] = np_classifier_classifications.apply(lambda x: x[\"is_glycoside\"] if x is not None and \"is_glycoside\" in x else None)"
   ]
  },
  {
   "cell_type": "code",
   "execution_count": 33,
   "id": "ea9db831",
   "metadata": {},
   "outputs": [],
   "source": [
    "vip_dataframe_annotated = vip_dataframe.dropna(subset=[\"compound score\"])\n",
    "vip_dataframe_unique = vip_dataframe.sort_values(\"compound score\", ascending=False)\n",
    "vip_dataframe_unique = vip_dataframe_unique.drop_duplicates(subset=[\"smiles\"], keep=\"first\")\n"
   ]
  },
  {
   "cell_type": "code",
   "execution_count": 35,
   "id": "7a93eebc",
   "metadata": {},
   "outputs": [],
   "source": [
    "vip_dataframe.to_csv(\"../data-out-clean/07_31_25_export/MSV000096359_features_vips_classes.csv\")"
   ]
  }
 ],
 "metadata": {
  "kernelspec": {
   "display_name": "rise-metabolomics",
   "language": "python",
   "name": "python3"
  },
  "language_info": {
   "codemirror_mode": {
    "name": "ipython",
    "version": 3
   },
   "file_extension": ".py",
   "mimetype": "text/x-python",
   "name": "python",
   "nbconvert_exporter": "python",
   "pygments_lexer": "ipython3",
   "version": "3.13.5"
  }
 },
 "nbformat": 4,
 "nbformat_minor": 5
}
